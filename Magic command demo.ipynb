{
 "cells": [
  {
   "cell_type": "code",
   "execution_count": 0,
   "metadata": {
    "application/vnd.databricks.v1+cell": {
     "cellMetadata": {
      "byteLimit": 2048000,
      "rowLimit": 10000
     },
     "inputWidgets": {},
     "nuid": "bcd00b73-f057-4b8a-abe8-3c67f32c77c5",
     "showTitle": true,
     "tableResultSettingsMap": {},
     "title": "Run the base notebook"
    }
   },
   "outputs": [],
   "source": [
    "%run \"/Workspace/Users/gtoms@mac.com/dbfreedemo/Base Notebook\""
   ]
  },
  {
   "cell_type": "code",
   "execution_count": 0,
   "metadata": {
    "application/vnd.databricks.v1+cell": {
     "cellMetadata": {
      "byteLimit": 2048000,
      "rowLimit": 10000
     },
     "inputWidgets": {},
     "nuid": "c133d799-6f64-4a2c-921e-927bbc142d42",
     "showTitle": true,
     "tableResultSettingsMap": {},
     "title": "Print a variable from the base notebook"
    }
   },
   "outputs": [],
   "source": [
    "print(basemessage)"
   ]
  },
  {
   "cell_type": "code",
   "execution_count": 0,
   "metadata": {
    "application/vnd.databricks.v1+cell": {
     "cellMetadata": {
      "byteLimit": 2048000,
      "rowLimit": 10000
     },
     "inputWidgets": {},
     "nuid": "981131a3-6966-47f9-8297-f11ab488d9cb",
     "showTitle": true,
     "tableResultSettingsMap": {},
     "title": "Call a function declared in the base notebook"
    }
   },
   "outputs": [],
   "source": [
    "print(multiply(4,10))"
   ]
  }
 ],
 "metadata": {
  "application/vnd.databricks.v1+notebook": {
   "computePreferences": null,
   "dashboards": [],
   "environmentMetadata": {
    "base_environment": "",
    "environment_version": "2"
   },
   "inputWidgetPreferences": null,
   "language": "python",
   "notebookMetadata": {
    "pythonIndentUnit": 4
   },
   "notebookName": "Magic command demo",
   "widgets": {}
  },
  "language_info": {
   "name": "python"
  }
 },
 "nbformat": 4,
 "nbformat_minor": 0
}
