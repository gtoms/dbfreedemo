{
 "cells": [
  {
   "cell_type": "code",
   "execution_count": 0,
   "metadata": {
    "application/vnd.databricks.v1+cell": {
     "cellMetadata": {
      "byteLimit": 2048000,
      "rowLimit": 10000
     },
     "inputWidgets": {},
     "nuid": "fa4ebd2c-e88f-4a83-9e8d-7093b09f09bc",
     "showTitle": true,
     "tableResultSettingsMap": {},
     "title": "Find a table on the filesystem using dbutils"
    }
   },
   "outputs": [],
   "source": [
    "dbutils.fs.ls('/databricks-datasets/nyctaxi/tables/nyctaxi_yellow/')"
   ]
  },
  {
   "cell_type": "code",
   "execution_count": 0,
   "metadata": {
    "application/vnd.databricks.v1+cell": {
     "cellMetadata": {
      "byteLimit": 2048000,
      "rowLimit": 10000
     },
     "inputWidgets": {},
     "nuid": "0a84e240-3bdb-4c96-a323-b143386cfc5c",
     "showTitle": true,
     "tableResultSettingsMap": {},
     "title": "Show the contents of a text file"
    }
   },
   "outputs": [],
   "source": [
    "filepath = '/databricks-datasets/nyctaxi/readme_nyctaxi.txt'\n",
    "\n",
    "with open(filepath, 'r') as f:\n",
    "  print(f.read())"
   ]
  },
  {
   "cell_type": "code",
   "execution_count": 0,
   "metadata": {
    "application/vnd.databricks.v1+cell": {
     "cellMetadata": {
      "byteLimit": 2048000,
      "rowLimit": 10000
     },
     "inputWidgets": {},
     "nuid": "97e1a005-3bdb-473e-8ae3-3d85a3820ce8",
     "showTitle": true,
     "tableResultSettingsMap": {},
     "title": "Load a delta table into a dataframe"
    }
   },
   "outputs": [],
   "source": [
    "df = spark.read.format('delta').load('dbfs:/databricks-datasets/nyctaxi/tables/nyctaxi_yellow/')\n",
    "df.display()"
   ]
  },
  {
   "cell_type": "code",
   "execution_count": 0,
   "metadata": {
    "application/vnd.databricks.v1+cell": {
     "cellMetadata": {
      "byteLimit": 2048000,
      "rowLimit": 10000
     },
     "inputWidgets": {},
     "nuid": "793aa43c-6dfb-46b9-a08e-e242fb630574",
     "showTitle": true,
     "tableResultSettingsMap": {},
     "title": "How many records are there?"
    }
   },
   "outputs": [],
   "source": [
    "df.count()"
   ]
  },
  {
   "cell_type": "code",
   "execution_count": 0,
   "metadata": {
    "application/vnd.databricks.v1+cell": {
     "cellMetadata": {
      "byteLimit": 2048000,
      "rowLimit": 10000
     },
     "inputWidgets": {},
     "nuid": "4041c3c7-41ab-4c54-881e-d3c3c45ef750",
     "showTitle": true,
     "tableResultSettingsMap": {},
     "title": "add gbp fare column"
    }
   },
   "outputs": [],
   "source": [
    "from pyspark.sql.functions import col, round\n",
    "df = df.withColumn('fare_amount_gbp', round(col('fare_amount') / 1.35, 2))\n",
    "df.display()\n"
   ]
  },
  {
   "cell_type": "code",
   "execution_count": 0,
   "metadata": {
    "application/vnd.databricks.v1+cell": {
     "cellMetadata": {
      "byteLimit": 2048000,
      "rowLimit": 10000
     },
     "inputWidgets": {},
     "nuid": "1ebaae67-bba4-4543-8ed2-1923637071ee",
     "showTitle": true,
     "tableResultSettingsMap": {},
     "title": "Create new dataframes for single and multiple passenger journeys"
    }
   },
   "outputs": [],
   "source": [
    "df_single = df.where('passenger_count = 1')\n",
    "df_multiple = df.where('passenger_count > 1')\n",
    "print(f'There are {df_single.count()} single passenger journeys and {df_multiple.count()} multiple passenger journeys in the datasets. The total number of journeys is {df.count()}')"
   ]
  },
  {
   "cell_type": "code",
   "execution_count": 0,
   "metadata": {
    "application/vnd.databricks.v1+cell": {
     "cellMetadata": {
      "byteLimit": 2048000,
      "rowLimit": 10000
     },
     "inputWidgets": {},
     "nuid": "e18f7d13-420f-47a3-bc62-d05830527376",
     "showTitle": true,
     "tableResultSettingsMap": {},
     "title": "Create functions"
    }
   },
   "outputs": [],
   "source": [
    "def format_as_currency(value):\n",
    "    return \"${:,.2f}\".format(value)"
   ]
  },
  {
   "cell_type": "code",
   "execution_count": 0,
   "metadata": {
    "application/vnd.databricks.v1+cell": {
     "cellMetadata": {
      "byteLimit": 2048000,
      "rowLimit": 10000
     },
     "inputWidgets": {},
     "nuid": "07079b41-cd03-44c5-9ad0-7cc6a77de91d",
     "showTitle": true,
     "tableResultSettingsMap": {},
     "title": "Calculate some aggregations using python"
    }
   },
   "outputs": [],
   "source": [
    "total_fare_amount = df.select('fare_amount').agg({'fare_amount': 'sum'}).collect()[0]['sum(fare_amount)']\n",
    "avg_fare_amount = df.select('fare_amount').agg({'fare_amount': 'avg'}).collect()[0]['avg(fare_amount)']\n",
    "print(f'The total fare amount for all journeys is {format_as_currency(total_fare_amount)}. Average fare is: {format_as_currency(avg_fare_amount)}')"
   ]
  },
  {
   "cell_type": "code",
   "execution_count": 0,
   "metadata": {
    "application/vnd.databricks.v1+cell": {
     "cellMetadata": {
      "byteLimit": 2048000,
      "rowLimit": 10000
     },
     "inputWidgets": {},
     "nuid": "bd210b0a-b517-452b-b8ce-fc3103da3629",
     "showTitle": true,
     "tableResultSettingsMap": {},
     "title": "Calculate some aggregations using sparkSQL"
    }
   },
   "outputs": [],
   "source": [
    "\n",
    "df.createOrReplaceTempView('tmp_nyctaxi')\n",
    "\n",
    "sql_agg = f'''\n",
    "select sum(fare_amount) as total_fare_amount, avg(fare_amount) as avg_fare_amount\n",
    "from tmp_nyctaxi\n",
    "'''\n",
    "df_aggs = spark.sql(sql_agg)\n",
    "total_fare_amount_sql = df_aggs.select('total_fare_amount').collect()[0]['total_fare_amount']\n",
    "avg_fare_amount_sql = df_aggs.select('avg_fare_amount').collect()[0]['avg_fare_amount']\n",
    "print(f'The total fare amount for all journeys is {format_as_currency(total_fare_amount_sql)}. Average fare is: {format_as_currency(avg_fare_amount_sql)}')\n"
   ]
  }
 ],
 "metadata": {
  "application/vnd.databricks.v1+notebook": {
   "computePreferences": null,
   "dashboards": [],
   "environmentMetadata": {
    "base_environment": "",
    "environment_version": "2"
   },
   "inputWidgetPreferences": null,
   "language": "python",
   "notebookMetadata": {
    "pythonIndentUnit": 4
   },
   "notebookName": "nyc taxi",
   "widgets": {}
  },
  "language_info": {
   "name": "python"
  }
 },
 "nbformat": 4,
 "nbformat_minor": 0
}
