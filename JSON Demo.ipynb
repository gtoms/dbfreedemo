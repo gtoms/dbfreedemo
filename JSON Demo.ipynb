{
 "cells": [
  {
   "cell_type": "code",
   "execution_count": 0,
   "metadata": {
    "application/vnd.databricks.v1+cell": {
     "cellMetadata": {
      "byteLimit": 2048000,
      "rowLimit": 10000
     },
     "inputWidgets": {},
     "nuid": "fe81a502-02b0-4ea6-a22e-ed89ac36f0c9",
     "showTitle": true,
     "tableResultSettingsMap": {},
     "title": "init"
    }
   },
   "outputs": [],
   "source": [
    "from pyspark.sql.functions import explode, col"
   ]
  },
  {
   "cell_type": "code",
   "execution_count": 0,
   "metadata": {
    "application/vnd.databricks.v1+cell": {
     "cellMetadata": {
      "byteLimit": 2048000,
      "rowLimit": 10000
     },
     "inputWidgets": {},
     "nuid": "c5c3c88e-d714-4e17-ba85-34058b4247e3",
     "showTitle": true,
     "tableResultSettingsMap": {},
     "title": "data into list of dictionaries"
    }
   },
   "outputs": [],
   "source": [
    "# Sample data representing customers and their purchases\n",
    "data = [\n",
    "    {\n",
    "        \"customer_id\": 1,\n",
    "        \"name\": \"John Doe\",\n",
    "        \"email\": \"john.doe@example.com\",\n",
    "        \"purchases\": [\n",
    "            {\"purchase_id\": 101, \"item\": \"Laptop\", \"amount\": 1200.00, \"date\": \"2023-01-15\"},\n",
    "            {\"purchase_id\": 102, \"item\": \"Mouse\", \"amount\": 25.00, \"date\": \"2023-01-20\"}\n",
    "        ]\n",
    "    },\n",
    "    {\n",
    "        \"customer_id\": 2,\n",
    "        \"name\": \"Jane Smith\",\n",
    "        \"email\": \"jane.smith@example.com\",\n",
    "        \"purchases\": [\n",
    "            {\"purchase_id\": 103, \"item\": \"Keyboard\", \"amount\": 75.00, \"date\": \"2023-02-10\"}\n",
    "        ]\n",
    "    }\n",
    "]"
   ]
  },
  {
   "cell_type": "code",
   "execution_count": 0,
   "metadata": {
    "application/vnd.databricks.v1+cell": {
     "cellMetadata": {
      "byteLimit": 2048000,
      "rowLimit": 10000
     },
     "inputWidgets": {},
     "nuid": "f44779f3-911f-4a87-a3ab-9ab20c399559",
     "showTitle": true,
     "tableResultSettingsMap": {},
     "title": "convert that to a dataframe"
    }
   },
   "outputs": [],
   "source": [
    "# Create a DataFrame directly from the list of dictionaries\n",
    "df = spark.createDataFrame(data)\n",
    "df.display()\n"
   ]
  },
  {
   "cell_type": "code",
   "execution_count": 0,
   "metadata": {
    "application/vnd.databricks.v1+cell": {
     "cellMetadata": {
      "byteLimit": 2048000,
      "rowLimit": 10000
     },
     "inputWidgets": {},
     "nuid": "db05ba68-9b3b-45c8-b25c-bd76d95394bf",
     "showTitle": true,
     "tableResultSettingsMap": {},
     "title": "save the JSON df to a table"
    }
   },
   "outputs": [],
   "source": [
    "result = df.write.mode(\"overwrite\").saveAsTable(\"customers_json\")"
   ]
  },
  {
   "cell_type": "code",
   "execution_count": 0,
   "metadata": {
    "application/vnd.databricks.v1+cell": {
     "cellMetadata": {
      "byteLimit": 2048000,
      "implicitDf": true,
      "rowLimit": 10000
     },
     "inputWidgets": {},
     "nuid": "53eb46cb-91ee-4f39-a809-a2e9fc149fec",
     "showTitle": false,
     "tableResultSettingsMap": {},
     "title": ""
    }
   },
   "outputs": [],
   "source": [
    "%sql\n",
    "\n",
    "select customer_id, email, name, purchases, p.purchase_id, p.item, p.amount, p.date\n",
    "from customers_json\n",
    "lateral view explode(purchases) as p"
   ]
  },
  {
   "cell_type": "code",
   "execution_count": 0,
   "metadata": {
    "application/vnd.databricks.v1+cell": {
     "cellMetadata": {
      "byteLimit": 2048000,
      "rowLimit": 10000
     },
     "inputWidgets": {},
     "nuid": "9808049d-739f-4e20-9899-33922441385f",
     "showTitle": true,
     "tableResultSettingsMap": {},
     "title": "expand the dataframe"
    }
   },
   "outputs": [],
   "source": [
    "\n",
    "# Flatten the nested structure by exploding the purchases array\n",
    "flattened_df = df.select(\n",
    "    col(\"customer_id\"),\n",
    "    col(\"name\"),\n",
    "    col(\"email\"),\n",
    "    explode(col(\"purchases\")).alias(\"purchase\")\n",
    ").select(\n",
    "    col(\"customer_id\"),\n",
    "    col(\"name\"),\n",
    "    col(\"email\"),\n",
    "    col(\"purchase.purchase_id\"),\n",
    "    col(\"purchase.item\"),\n",
    "    col(\"purchase.amount\"),\n",
    "    col(\"purchase.date\")\n",
    ")\n",
    "\n",
    "# Display the result\n",
    "flattened_df.display()"
   ]
  },
  {
   "cell_type": "code",
   "execution_count": 0,
   "metadata": {
    "application/vnd.databricks.v1+cell": {
     "cellMetadata": {
      "byteLimit": 2048000,
      "rowLimit": 10000
     },
     "inputWidgets": {},
     "nuid": "2273ffaf-4f35-4f46-b866-2998ffa217b7",
     "showTitle": true,
     "tableResultSettingsMap": {},
     "title": "save the flattened df to a table"
    }
   },
   "outputs": [],
   "source": [
    "result = flattened_df.write.mode(\"overwrite\").saveAsTable(\"customers_flattened\")"
   ]
  },
  {
   "cell_type": "code",
   "execution_count": 0,
   "metadata": {
    "application/vnd.databricks.v1+cell": {
     "cellMetadata": {
      "byteLimit": 2048000,
      "implicitDf": true,
      "rowLimit": 10000
     },
     "inputWidgets": {},
     "nuid": "5cd01b47-4f8f-442d-a008-9a71dcd8162f",
     "showTitle": true,
     "tableResultSettingsMap": {},
     "title": "query the flattened df table"
    }
   },
   "outputs": [],
   "source": [
    "%sql\n",
    "\n",
    "select * from customers_flattened"
   ]
  }
 ],
 "metadata": {
  "application/vnd.databricks.v1+notebook": {
   "computePreferences": null,
   "dashboards": [],
   "environmentMetadata": {
    "base_environment": "",
    "environment_version": "2"
   },
   "inputWidgetPreferences": null,
   "language": "python",
   "notebookMetadata": {
    "mostRecentlyExecutedCommandWithImplicitDF": {
     "commandId": 7402786085949005,
     "dataframes": [
      "_sqldf"
     ]
    },
    "pythonIndentUnit": 4
   },
   "notebookName": "JSON Demo",
   "widgets": {}
  },
  "language_info": {
   "name": "python"
  }
 },
 "nbformat": 4,
 "nbformat_minor": 0
}
