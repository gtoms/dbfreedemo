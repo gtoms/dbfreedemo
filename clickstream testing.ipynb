{
 "cells": [
  {
   "cell_type": "code",
   "execution_count": 0,
   "metadata": {
    "application/vnd.databricks.v1+cell": {
     "cellMetadata": {
      "byteLimit": 2048000,
      "rowLimit": 10000
     },
     "inputWidgets": {},
     "nuid": "a3303312-b808-477c-8345-7f50e81c0aa3",
     "showTitle": true,
     "tableResultSettingsMap": {},
     "title": "init"
    }
   },
   "outputs": [],
   "source": [
    "from pyspark.sql.types import StructType, StructField, IntegerType, StringType, DoubleType, TimestampType, ArrayType, LongType\n",
    "from pyspark.sql.functions import col, explode\n",
    "from datetime import datetime"
   ]
  },
  {
   "cell_type": "code",
   "execution_count": 0,
   "metadata": {
    "application/vnd.databricks.v1+cell": {
     "cellMetadata": {
      "byteLimit": 2048000,
      "rowLimit": 10000
     },
     "inputWidgets": {},
     "nuid": "4cd842ad-ee53-4b83-b3a3-51c2d59ed5a5",
     "showTitle": true,
     "tableResultSettingsMap": {},
     "title": "define the schema"
    }
   },
   "outputs": [],
   "source": [
    "# Define schema\n",
    "json_schema = StructType([\n",
    "    StructField(\"Id\", IntegerType(), True),\n",
    "    StructField(\"TransactionRef\", StringType(), True),\n",
    "    StructField(\"Amount\", DoubleType(), True),\n",
    "    StructField(\"PaymentMethod\", StringType(), True),\n",
    "    StructField(\"PaymentStatus\", StringType(), True),\n",
    "    StructField(\"Title\", StringType(), True),\n",
    "    StructField(\"Firstname\", StringType(), True),\n",
    "    StructField(\"Lastname\", StringType(), True),\n",
    "    StructField(\"Email\", StringType(), True),\n",
    "    StructField(\"AddressLine1\", StringType(), True),\n",
    "    StructField(\"AddressLine2\", StringType(), True),\n",
    "    StructField(\"Town\", StringType(), True),\n",
    "    StructField(\"County\", StringType(), True),\n",
    "    StructField(\"Postcode\", StringType(), True),\n",
    "    StructField(\"Country\", StringType(), True),\n",
    "    StructField(\"EmailOptIn\", StringType(), True),\n",
    "    StructField(\"PostOptIn\", StringType(), True),\n",
    "    StructField(\"PhoneOptIn\", StringType(), True),\n",
    "    StructField(\"SMSOptIn\", StringType(), True),\n",
    "    StructField(\"Campaign\", StringType(), True),\n",
    "    StructField(\"GiftAidOptIn\", StringType(), True),\n",
    "    StructField(\"DateTimeSubmitted\", StringType(), True),\n",
    "    StructField(\"ClickStreamData\", StructType([\n",
    "        StructField(\"version\", StringType(), True),\n",
    "        StructField(\"data\", ArrayType(StructType([\n",
    "            StructField(\"source\", StringType(), True),\n",
    "            StructField(\"medium\", StringType(), True),\n",
    "            StructField(\"campaign\", StringType(), True),\n",
    "            StructField(\"content\", StringType(), True),\n",
    "            StructField(\"adset\", StringType(), True),\n",
    "            StructField(\"campaign_id\", StringType(), True),\n",
    "            StructField(\"source_platform\", StringType(), True),\n",
    "            StructField(\"referrer\", StringType(), True),\n",
    "            StructField(\"timestamp\", LongType(), True),\n",
    "            StructField(\"path\", StringType(), True)\n",
    "        ])), True)\n",
    "    ]), True)\n",
    "])"
   ]
  },
  {
   "cell_type": "code",
   "execution_count": 0,
   "metadata": {
    "application/vnd.databricks.v1+cell": {
     "cellMetadata": {
      "byteLimit": 2048000,
      "rowLimit": 10000
     },
     "inputWidgets": {},
     "nuid": "a2a6f10b-a936-4390-99b8-74901783f69c",
     "showTitle": true,
     "tableResultSettingsMap": {},
     "title": "define the sample data"
    }
   },
   "outputs": [],
   "source": [
    "json_data = [\n",
    "    {\n",
    "        \"Id\": 1,\n",
    "        \"TransactionRef\": \"b2px7huihdpf\",\n",
    "        \"Amount\": 2.00,\n",
    "        \"PaymentMethod\": \"Credit Card\",\n",
    "        \"PaymentStatus\": \"Success\",\n",
    "        \"Title\": \"Miss\",\n",
    "        \"Firstname\": \"Firstname\",\n",
    "        \"Lastname\": \"Lastname\",\n",
    "        \"Email\": \"firstname.lastname@ageuk.org.uk\",\n",
    "        \"AddressLine1\": \"Address line 1\",\n",
    "        \"AddressLine2\": \"Address\",\n",
    "        \"Town\": \"Town\",\n",
    "        \"County\": \"County\",\n",
    "        \"Postcode\": \"POSTCODE\",\n",
    "        \"Country\": \"GB\",\n",
    "        \"EmailOptIn\": \"false\",\n",
    "        \"PostOptIn\": \"false\",\n",
    "        \"PhoneOptIn\": \"false\",\n",
    "        \"SMSOptIn\": \"false\",\n",
    "        \"Campaign\": \"MXXX-25II05-U001\",\n",
    "        \"GiftAidOptIn\": \"false\",\n",
    "        \"DateTimeSubmitted\": \"2025-04-23T09:23:31.117\",\n",
    "        \"ClickStreamData\": {\"version\":\"0.0.1\",\"data\":[\n",
    "            {\"source\":\"none\",\"medium\":\"other\",\"campaign\":\"none\",\"content\":\"\",\"adset\":\"\",\"campaign_id\":\"\",\"source_platform\":\"\",\"referrer\":\"\",\"timestamp\":1745397169883,\"path\":\"\\/\"},\n",
    "            {\"source\":\"none\",\"medium\":\"other\",\"campaign\":\"none\",\"content\":\"\",\"adset\":\"\",\"campaign_id\":\"\",\"source_platform\":\"\",\"referrer\":\"\",\"timestamp\":1745397169887,\"path\":\"\\/\"}\n",
    "            ]}\n",
    "    },\n",
    "    {\n",
    "    \"Id\": 2,\n",
    "    \"TransactionRef\": \"blknfskguvr\",\n",
    "    \"Amount\": 5.00,\n",
    "    \"PaymentMethod\": \"Credit Card\",\n",
    "    \"PaymentStatus\": \"Success\",\n",
    "    \"Title\": \"Mr\",\n",
    "    \"Firstname\": \"Firstname\",\n",
    "    \"Lastname\": \"Lastname\",\n",
    "    \"Email\": \"firstname.lastname@ageuk.org.uk\",\n",
    "    \"AddressLine1\": \"Address line 1\",\n",
    "    \"AddressLine2\": \"Address\",\n",
    "    \"Town\": \"Town\",\n",
    "    \"County\": \"County\",\n",
    "    \"Postcode\": \"POSTCODE\",\n",
    "    \"Country\": \"GB\",\n",
    "    \"EmailOptIn\": \"false\",\n",
    "    \"PostOptIn\": \"false\",\n",
    "    \"PhoneOptIn\": \"false\",\n",
    "    \"SMSOptIn\": \"false\",\n",
    "    \"Campaign\": \"MXXX-25II05-U001\",\n",
    "    \"GiftAidOptIn\": \"false\",\n",
    "    \"DateTimeSubmitted\": \"2025-04-24T09:23:31.117\",\n",
    "    \"ClickStreamData\": {\"version\":\"0.0.1\",\"data\":[\n",
    "        {\"source\":\"none\",\"medium\":\"other\",\"campaign\":\"none\",\"content\":\"\",\"adset\":\"\",\"campaign_id\":\"\",\"source_platform\":\"\",\"referrer\":\"\",\"timestamp\":1745397169884,\"path\":\"\\/\"}\n",
    "        ]}\n",
    "}\n",
    "]"
   ]
  },
  {
   "cell_type": "code",
   "execution_count": 0,
   "metadata": {
    "application/vnd.databricks.v1+cell": {
     "cellMetadata": {
      "byteLimit": 2048000,
      "rowLimit": 10000
     },
     "inputWidgets": {},
     "nuid": "73df2015-9eee-4fc1-9938-e1a143437a18",
     "showTitle": true,
     "tableResultSettingsMap": {},
     "title": "convert the sample data to a dataframe"
    }
   },
   "outputs": [],
   "source": [
    "# Create DataFrame\n",
    "df = spark.createDataFrame(json_data, json_schema)\n",
    "\n",
    "# Show DataFrame\n",
    "df.display()\n"
   ]
  },
  {
   "cell_type": "code",
   "execution_count": 0,
   "metadata": {
    "application/vnd.databricks.v1+cell": {
     "cellMetadata": {
      "byteLimit": 2048000,
      "rowLimit": 10000
     },
     "inputWidgets": {},
     "nuid": "7af7e8fd-2c8b-4fd2-aadb-a0ea0864ce24",
     "showTitle": true,
     "tableResultSettingsMap": {},
     "title": "build a dataframe containing donation data"
    }
   },
   "outputs": [],
   "source": [
    "df_donations = df.select(['Id',\n",
    "    'TransactionRef',\n",
    "    'Amount',\n",
    "    'PaymentMethod',\n",
    "    'PaymentStatus',\n",
    "    'Title',\n",
    "    'Firstname',\n",
    "    'Lastname',\n",
    "    'Email',\n",
    "    'AddressLine1',\n",
    "    'AddressLine2',\n",
    "    'Town',\n",
    "    'County',\n",
    "    'Postcode',\n",
    "    'Country',\n",
    "    'EmailOptIn',\n",
    "    'PostOptIn',\n",
    "    'PhoneOptIn',\n",
    "    'SMSOptIn',\n",
    "    'Campaign',\n",
    "    'GiftAidOptIn',\n",
    "    'DateTimeSubmitted'])\n",
    "\n",
    "df_donations.display()"
   ]
  },
  {
   "cell_type": "code",
   "execution_count": 0,
   "metadata": {
    "application/vnd.databricks.v1+cell": {
     "cellMetadata": {
      "byteLimit": 2048000,
      "rowLimit": 10000
     },
     "inputWidgets": {},
     "nuid": "2f83c0dd-09b6-4eb7-991c-b7dfd8782a0c",
     "showTitle": true,
     "tableResultSettingsMap": {},
     "title": "build a dataframe containing donation attribution data"
    }
   },
   "outputs": [],
   "source": [
    "df_donation_attribution = df.select(\n",
    "    \"Id\",\n",
    "    explode(\"ClickStreamData.data\").alias(\"click_event\")\n",
    ").select([\n",
    "    \"id\",\n",
    "    \"click_event.source\",\n",
    "    \"click_event.medium\",\n",
    "    \"click_event.campaign\",\n",
    "    \"click_event.content\",\n",
    "    \"click_event.adset\",\n",
    "    \"click_event.campaign_id\",\n",
    "    \"click_event.source_platform\",\n",
    "    \"click_event.referrer\",\n",
    "    \"click_event.timestamp\",\n",
    "    \"click_event.path\"])\n",
    "    \n",
    "df_donation_attribution.display()"
   ]
  }
 ],
 "metadata": {
  "application/vnd.databricks.v1+notebook": {
   "computePreferences": null,
   "dashboards": [],
   "environmentMetadata": {
    "base_environment": "",
    "environment_version": "2"
   },
   "inputWidgetPreferences": null,
   "language": "python",
   "notebookMetadata": {
    "pythonIndentUnit": 4
   },
   "notebookName": "clickstream testing",
   "widgets": {}
  },
  "language_info": {
   "name": "python"
  }
 },
 "nbformat": 4,
 "nbformat_minor": 0
}
