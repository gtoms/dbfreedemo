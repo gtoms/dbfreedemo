{
 "cells": [
  {
   "cell_type": "markdown",
   "metadata": {
    "application/vnd.databricks.v1+cell": {
     "cellMetadata": {},
     "inputWidgets": {},
     "nuid": "28d5c6db-be34-4850-bd9f-ddf35c4e8a0d",
     "showTitle": false,
     "tableResultSettingsMap": {},
     "title": ""
    }
   },
   "source": [
    "Notebook to demo the use of functions in databricks"
   ]
  },
  {
   "cell_type": "code",
   "execution_count": 0,
   "metadata": {
    "application/vnd.databricks.v1+cell": {
     "cellMetadata": {
      "byteLimit": 2048000,
      "implicitDf": true,
      "rowLimit": 10000
     },
     "inputWidgets": {},
     "nuid": "af1ef573-777c-4681-9afd-f971f5360b7f",
     "showTitle": true,
     "tableResultSettingsMap": {},
     "title": "Create a SQL Function"
    }
   },
   "outputs": [],
   "source": [
    "%sql\n",
    "CREATE OR REPLACE FUNCTION sql_multiply_numbers(a DOUBLE, b DOUBLE)\n",
    "RETURNS DOUBLE\n",
    "RETURN a * b;\n"
   ]
  },
  {
   "cell_type": "code",
   "execution_count": 0,
   "metadata": {
    "application/vnd.databricks.v1+cell": {
     "cellMetadata": {
      "byteLimit": 2048000,
      "implicitDf": true,
      "rowLimit": 10000
     },
     "inputWidgets": {},
     "nuid": "c23ca9f2-f99d-4365-8b3a-f9ea276f513f",
     "showTitle": true,
     "tableResultSettingsMap": {},
     "title": "Test the SQL function"
    }
   },
   "outputs": [],
   "source": [
    "%sql\n",
    "select sql_multiply_numbers(4,4) as result;"
   ]
  },
  {
   "cell_type": "code",
   "execution_count": 0,
   "metadata": {
    "application/vnd.databricks.v1+cell": {
     "cellMetadata": {
      "byteLimit": 2048000,
      "rowLimit": 10000
     },
     "inputWidgets": {},
     "nuid": "c90df924-414d-4eb7-9371-e521e8c4fc53",
     "showTitle": true,
     "tableResultSettingsMap": {},
     "title": "Pandas Function"
    }
   },
   "outputs": [],
   "source": [
    "# Note that pandas is overkill for this function but it's a nice example of how to use pandas sql functions\n",
    "\n",
    "from pyspark.sql.functions import pandas_udf\n",
    "from pyspark.sql.types import DoubleType\n",
    "import pandas as pd\n",
    "\n",
    "# Define the pandas UDF\n",
    "@pandas_udf(DoubleType())\n",
    "def pandas_multiply_numbers(a: pd.Series, b: pd.Series) -> pd.Series:\n",
    "    return a * b\n",
    "\n",
    "\n",
    "# Register the UDF so it can be used in SQL\n",
    "spark.udf.register(\"pandas_multiply_numbers\", pandas_multiply_numbers)\n",
    "\n"
   ]
  },
  {
   "cell_type": "code",
   "execution_count": 0,
   "metadata": {
    "application/vnd.databricks.v1+cell": {
     "cellMetadata": {
      "byteLimit": 2048000,
      "implicitDf": true,
      "rowLimit": 10000
     },
     "inputWidgets": {},
     "nuid": "3955cf97-5282-4338-9302-ce2d7f2510a5",
     "showTitle": true,
     "tableResultSettingsMap": {},
     "title": "Test the pandas function"
    }
   },
   "outputs": [],
   "source": [
    "%sql\n",
    "select pandas_multiply_numbers(4,4) as result;"
   ]
  },
  {
   "cell_type": "markdown",
   "metadata": {
    "application/vnd.databricks.v1+cell": {
     "cellMetadata": {},
     "inputWidgets": {},
     "nuid": "bf14d3eb-94ac-447e-9974-d57d04c4e299",
     "showTitle": false,
     "tableResultSettingsMap": {},
     "title": ""
    }
   },
   "source": [
    "Why use pd.Series instead of a numeric type?\n",
    "When you're writing a pandas UDF (User Defined Function) in PySpark, you're not operating on single values — you're operating on batches of data (i.e. columns or chunks of columns). Here's why pd.Series is used:\n",
    "\n",
    "Vectorized Operations\n",
    "A pandas UDF receives entire columns (or batches of rows) as input, not individual values.\n",
    "These columns are passed as pandas.Series objects, which allow for fast, vectorized operations — much faster than looping through individual values.\n",
    "Parallel Processing\n",
    "PySpark splits your data into partitions and processes them in parallel.\n",
    "Each partition is passed to your UDF as a pd.Series, allowing pandas to operate on the entire chunk at once.\n"
   ]
  },
  {
   "cell_type": "code",
   "execution_count": 0,
   "metadata": {
    "application/vnd.databricks.v1+cell": {
     "cellMetadata": {
      "byteLimit": 2048000,
      "rowLimit": 10000
     },
     "inputWidgets": {},
     "nuid": "b62ecf1a-887f-4117-b7f1-675124460160",
     "showTitle": true,
     "tableResultSettingsMap": {},
     "title": "PySpark Function"
    }
   },
   "outputs": [],
   "source": [
    "from pyspark.sql.functions import udf\n",
    "from pyspark.sql.types import IntegerType\n",
    "\n",
    "def multiply_numbers(a, b):\n",
    "    return a * b\n",
    "\n",
    "# Register the UDF\n",
    "spark.udf.register(\"pyspark_multiply_numbers\", multiply_numbers, IntegerType())"
   ]
  },
  {
   "cell_type": "code",
   "execution_count": 0,
   "metadata": {
    "application/vnd.databricks.v1+cell": {
     "cellMetadata": {
      "byteLimit": 2048000,
      "implicitDf": true,
      "rowLimit": 10000
     },
     "inputWidgets": {},
     "nuid": "4803d1f5-f264-475e-b6a3-b1d6d2fe76fb",
     "showTitle": true,
     "tableResultSettingsMap": {},
     "title": "Test the PySpark function in SQL"
    }
   },
   "outputs": [],
   "source": [
    "%sql\n",
    "\n",
    "select pyspark_multiply_numbers(4,4) as result;"
   ]
  },
  {
   "cell_type": "code",
   "execution_count": 0,
   "metadata": {
    "application/vnd.databricks.v1+cell": {
     "cellMetadata": {
      "byteLimit": 2048000,
      "rowLimit": 10000
     },
     "inputWidgets": {},
     "nuid": "4e91fc3d-f13b-4757-8e09-d16e07428d2b",
     "showTitle": true,
     "tableResultSettingsMap": {},
     "title": "UDF function performing vectorized operation: Register the function"
    }
   },
   "outputs": [],
   "source": [
    "from pyspark.sql.functions import udf\n",
    "from pyspark.sql.types import DoubleType\n",
    "\n",
    "# Define the UDF\n",
    "def udf_multiply_numbers(a, b):\n",
    "    return a * b\n",
    "\n",
    "# Register the UDF\n",
    "udf_multiply_numbers = udf(udf_multiply_numbers, DoubleType())\n"
   ]
  },
  {
   "cell_type": "code",
   "execution_count": 0,
   "metadata": {
    "application/vnd.databricks.v1+cell": {
     "cellMetadata": {
      "byteLimit": 2048000,
      "rowLimit": 10000
     },
     "inputWidgets": {},
     "nuid": "d01c0978-d4f1-4957-b050-bb82d245649b",
     "showTitle": true,
     "tableResultSettingsMap": {},
     "title": "Using the vectorized function"
    }
   },
   "outputs": [],
   "source": [
    "from pyspark.sql import SparkSession\n",
    "from pyspark.sql.functions import col\n",
    "\n",
    "# Sample DataFrame\n",
    "df = spark.createDataFrame([\n",
    "    (2.0, 3.0),\n",
    "    (4.5, 5.5),\n",
    "    (6.0, 7.0)\n",
    "], [\"a\", \"b\"])\n",
    "\n",
    "# Apply the UDF\n",
    "df_with_product = df.withColumn(\"product\", udf_multiply_numbers(col(\"a\"), col(\"b\")))\n",
    "df_with_product.show()\n"
   ]
  }
 ],
 "metadata": {
  "application/vnd.databricks.v1+notebook": {
   "computePreferences": null,
   "dashboards": [],
   "environmentMetadata": {
    "base_environment": "",
    "environment_version": "2"
   },
   "inputWidgetPreferences": null,
   "language": "python",
   "notebookMetadata": {
    "mostRecentlyExecutedCommandWithImplicitDF": {
     "commandId": 6077222260475973,
     "dataframes": [
      "_sqldf"
     ]
    },
    "pythonIndentUnit": 4
   },
   "notebookName": "function demos",
   "widgets": {}
  },
  "language_info": {
   "name": "python"
  }
 },
 "nbformat": 4,
 "nbformat_minor": 0
}
